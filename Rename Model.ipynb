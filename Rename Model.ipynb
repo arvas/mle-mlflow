{
 "cells": [
  {
   "cell_type": "code",
   "execution_count": 1,
   "id": "e4018bb4-a096-43c6-aa69-07b7e2419487",
   "metadata": {},
   "outputs": [
    {
     "ename": "TypeError",
     "evalue": "MlflowClient.update_registered_model() got an unexpected keyword argument 'model_name'",
     "output_type": "error",
     "traceback": [
      "\u001b[0;31m---------------------------------------------------------------------------\u001b[0m",
      "\u001b[0;31mTypeError\u001b[0m                                 Traceback (most recent call last)",
      "Cell \u001b[0;32mIn[1], line 13\u001b[0m\n\u001b[1;32m      7\u001b[0m client \u001b[38;5;241m=\u001b[39m mlflow\u001b[38;5;241m.\u001b[39mtracking\u001b[38;5;241m.\u001b[39mMlflowClient()\n\u001b[1;32m      9\u001b[0m \u001b[38;5;66;03m# Получаем информацию о модели\u001b[39;00m\n\u001b[1;32m     10\u001b[0m \u001b[38;5;66;03m#model = client.get_registered_model('churn_model_arvas')\u001b[39;00m\n\u001b[1;32m     11\u001b[0m \n\u001b[1;32m     12\u001b[0m \u001b[38;5;66;03m# Переименовываем модель\u001b[39;00m\n\u001b[0;32m---> 13\u001b[0m \u001b[43mclient\u001b[49m\u001b[38;5;241;43m.\u001b[39;49m\u001b[43mupdate_registered_model\u001b[49m\u001b[43m(\u001b[49m\u001b[43mmodel_name\u001b[49m\u001b[38;5;241;43m=\u001b[39;49m\u001b[38;5;124;43m'\u001b[39;49m\u001b[38;5;124;43mchurn_model_arvas\u001b[39;49m\u001b[38;5;124;43m'\u001b[39;49m\u001b[43m,\u001b[49m\u001b[43m \u001b[49m\u001b[43mnew_name\u001b[49m\u001b[38;5;241;43m=\u001b[39;49m\u001b[38;5;124;43m'\u001b[39;49m\u001b[38;5;124;43mchurn_model_arvas_b2c\u001b[39;49m\u001b[38;5;124;43m'\u001b[39;49m\u001b[43m)\u001b[49m\n\u001b[1;32m     15\u001b[0m \u001b[38;5;28mprint\u001b[39m(client)\n",
      "\u001b[0;31mTypeError\u001b[0m: MlflowClient.update_registered_model() got an unexpected keyword argument 'model_name'"
     ]
    }
   ],
   "source": [
    "import mlflow\n",
    "\n",
    "# Установите URI для вашего сервера MLflow (если необходимо)\n",
    "mlflow.set_tracking_uri(\"http://localhost:5000\")  # Укажите на ваш сервер\n",
    "\n",
    "# Переименовываем модель\n",
    "client = mlflow.tracking.MlflowClient()\n",
    "\n",
    "# Переименовываем модель\n",
    "client.rename_registered_model(name='churn_model_arvas', new_name='churn_model_arvas_b2c')\n",
    "\n",
    "print(client)"
   ]
  },
  {
   "cell_type": "code",
   "execution_count": null,
   "id": "14b995ad-2d6f-4227-a434-bc3ade4ae2d1",
   "metadata": {},
   "outputs": [],
   "source": []
  }
 ],
 "metadata": {
  "kernelspec": {
   "display_name": "Python 3 (ipykernel)",
   "language": "python",
   "name": "python3"
  },
  "language_info": {
   "codemirror_mode": {
    "name": "ipython",
    "version": 3
   },
   "file_extension": ".py",
   "mimetype": "text/x-python",
   "name": "python",
   "nbconvert_exporter": "python",
   "pygments_lexer": "ipython3",
   "version": "3.10.12"
  }
 },
 "nbformat": 4,
 "nbformat_minor": 5
}
