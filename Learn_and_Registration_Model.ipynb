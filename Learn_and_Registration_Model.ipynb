{
 "cells": [
  {
   "cell_type": "code",
   "execution_count": 11,
   "id": "b91e10fe-5571-47fc-b164-c3b52a0a1b15",
   "metadata": {},
   "outputs": [
    {
     "name": "stdout",
     "output_type": "stream",
     "text": [
      "         id  begin_date end_date            type paperless_billing  \\\n",
      "1452   8471  2018-07-01      NaN  Month-to-month               Yes   \n",
      "3269  10289  2017-01-01      NaN        One year               Yes   \n",
      "\n",
      "                 payment_method  monthly_charges  total_charges  \\\n",
      "1452  Bank transfer (automatic)             45.0         865.85   \n",
      "3269    Credit card (automatic)            104.5        3778.00   \n",
      "\n",
      "     internet_service online_security online_backup device_protection  \\\n",
      "1452              DSL              No            No                No   \n",
      "3269      Fiber optic              No           Yes                No   \n",
      "\n",
      "     tech_support streaming_tv streaming_movies gender  senior_citizen  \\\n",
      "1452           No           No               No   Male               0   \n",
      "3269          Yes          Yes              Yes   Male               0   \n",
      "\n",
      "     partner dependents multiple_lines  \n",
      "1452      No         No             No  \n",
      "3269      No         No            Yes  \n",
      "1452    0\n",
      "3269    0\n",
      "Name: target, dtype: int64\n"
     ]
    }
   ],
   "source": [
    "# чтение данных\n",
    "import pandas as pd\n",
    "from sklearn.metrics import mean_squared_error\n",
    "import joblib\n",
    "import json\n",
    "import yaml\n",
    "import os\n",
    "from sklearn.model_selection import train_test_split\n",
    "\n",
    "data = pd.read_csv('dataframe/churn_data.csv')\n",
    "\n",
    "X_train, X_test, y_train, y_test = train_test_split(\n",
    "    data.drop(columns=['target']), data['target'], test_size=0.2, random_state=42\n",
    ")\n",
    "\n",
    "print(X_train[:2])\n",
    "print(y_train[:2])\n"
   ]
  },
  {
   "cell_type": "code",
   "execution_count": 14,
   "id": "d6e5d281-c855-4b85-a3b0-f8b8af0cc0d1",
   "metadata": {},
   "outputs": [
    {
     "name": "stdout",
     "output_type": "stream",
     "text": [
      "<catboost.core.CatBoostClassifier object at 0x7fbfec3baf20>\n"
     ]
    }
   ],
   "source": [
    "# обучение модели\n",
    "\n",
    "from sklearn.compose import ColumnTransformer, TransformedTargetRegressor\n",
    "from sklearn.preprocessing import StandardScaler, OneHotEncoder, FunctionTransformer\n",
    "from category_encoders import CatBoostEncoder\n",
    "from catboost import CatBoostClassifier\n",
    "from sklearn.pipeline import Pipeline\n",
    "\n",
    "# реализуйте основную логику шага с использованием гиперпараметров\n",
    "cat_features = X_train.select_dtypes(include='object')\n",
    "potential_binary_features = cat_features.nunique() == 2\n",
    "\n",
    "binary_cat_features = cat_features[potential_binary_features[potential_binary_features].index]\n",
    "other_cat_features = cat_features[potential_binary_features[~potential_binary_features].index]\n",
    "num_features = X_train.select_dtypes(['float'])\n",
    "\n",
    "preprocessor = ColumnTransformer(\n",
    "    [\n",
    "        ('binary', OneHotEncoder(drop='if_binary'), binary_cat_features.columns.tolist()),\n",
    "        ('cat', CatBoostEncoder(return_df=False), other_cat_features.columns.tolist()),\n",
    "        ('num', StandardScaler(), num_features.columns.tolist())\n",
    "    ],\n",
    "    remainder='drop',\n",
    "    verbose_feature_names_out=False\n",
    ")\n",
    "\n",
    "model = CatBoostClassifier(auto_class_weights='Balanced', verbose=0)\n",
    "\n",
    "pipeline = Pipeline(\n",
    "    [\n",
    "        ('preprocessor', preprocessor),\n",
    "        ('model', model)\n",
    "    ]\n",
    ")\n",
    "\n",
    "pipeline.fit(X_train, y_train) \n",
    "\n",
    "print (model)"
   ]
  },
  {
   "cell_type": "code",
   "execution_count": 15,
   "id": "f074dbb5-5cc9-4202-91d0-04ac9b9c45d6",
   "metadata": {},
   "outputs": [
    {
     "name": "stdout",
     "output_type": "stream",
     "text": [
      "[0 0 0 ... 1 0 0]\n"
     ]
    }
   ],
   "source": [
    "prediction = pipeline.predict(X_test)\n",
    "print (prediction)"
   ]
  },
  {
   "cell_type": "code",
   "execution_count": 19,
   "id": "0df94b7b-a3e2-4934-adba-f0fbcce614f2",
   "metadata": {},
   "outputs": [
    {
     "name": "stdout",
     "output_type": "stream",
     "text": [
      "<catboost.core.CatBoostClassifier object at 0x7fbfec3baf20>\n"
     ]
    },
    {
     "name": "stderr",
     "output_type": "stream",
     "text": [
      "Registered model 'churn_model_arvas' already exists. Creating a new version of this model...\n",
      "2025/09/10 05:38:56 INFO mlflow.tracking._model_registry.client: Waiting up to 60 seconds for model version to finish creation. Model name: churn_model_arvas, version 2\n",
      "Created version '2' of model 'churn_model_arvas'.\n"
     ]
    }
   ],
   "source": [
    "# Сохранение модели\n",
    "\n",
    "import os\n",
    "import mlflow\n",
    "import mlflow.sklearn\n",
    "import pandas as pd\n",
    "\n",
    "EXPERIMENT_NAME = \"churn\"\n",
    "RUN_NAME = \"model_0_registry\"\n",
    "REGISTRY_MODEL_NAME = \"churn_model_arvas\"\n",
    "\n",
    "\n",
    "os.environ[\"MLFLOW_S3_ENDPOINT_URL\"] = \"https://storage.yandexcloud.net\"\n",
    "os.environ[\"AWS_ACCESS_KEY_ID\"] = \"YCAJE3Nlz8iDILW5VTYM1ihQB\"\n",
    "os.environ[\"AWS_SECRET_ACCESS_KEY\"] = \"YCPjvS7uwhvJpUj3bKm8X-IX4QAwBIVsvX61IL44\"\n",
    "\n",
    "mlflow.set_tracking_uri(\"http://localhost:5000\")\n",
    "\n",
    "X_transformed_test = pipeline.named_steps['preprocessor'].transform(X_test)\n",
    "\n",
    "pip_requirements = 'requirements.txt'\n",
    "signature = mlflow.models.infer_signature(X_transformed_test, prediction)\n",
    "input_example = X_transformed_test[:10]\n",
    "metadata = {'model_type': 'monthly'}\n",
    "\n",
    "print (model)\n",
    "experiment_id = mlflow.get_experiment_by_name(EXPERIMENT_NAME).experiment_id\n",
    "\n",
    "with mlflow.start_run(run_name=RUN_NAME, experiment_id=experiment_id) as run:\n",
    "    run_id = run.info.run_id\n",
    "    # ваш код здесь\n",
    "    model_info = mlflow.catboost.log_model(\n",
    "        cb_model=model,  # Ваш обученный экземпляр модели DecisionTreeClassifier\n",
    "        artifact_path='models',\n",
    "        registered_model_name=REGISTRY_MODEL_NAME,\n",
    "        signature=signature,\n",
    "        input_example=input_example,\n",
    "        metadata=metadata,\n",
    "        pip_requirements=pip_requirements,\n",
    "        await_registration_for=60\n",
    "    )"
   ]
  },
  {
   "cell_type": "code",
   "execution_count": 18,
   "id": "17028898-e755-4222-902d-e4c4698baac8",
   "metadata": {},
   "outputs": [
    {
     "name": "stdout",
     "output_type": "stream",
     "text": [
      "[[ 1.          0.          0.         ...  0.17317271 -0.97151\n",
      "   0.09356225]\n",
      " [ 1.          0.          1.         ...  0.17317271 -0.0029449\n",
      "   1.0870915 ]\n",
      " [ 1.          0.          0.         ...  0.15181801 -0.02294969\n",
      "   0.322973  ]\n",
      " ...\n",
      " [ 1.          1.          0.         ...  0.15181801  0.46883465\n",
      "   0.24764112]\n",
      " [ 1.          1.          0.         ...  0.20609188 -1.51330631\n",
      "  -0.80325745]\n",
      " [ 0.          1.          1.         ...  0.15181801  1.71246557\n",
      "   0.71750625]]\n"
     ]
    }
   ],
   "source": [
    "print (X_transformed_test)"
   ]
  },
  {
   "cell_type": "code",
   "execution_count": null,
   "id": "9997a368-5b7a-4b50-be19-2f6e04271f6c",
   "metadata": {},
   "outputs": [],
   "source": []
  }
 ],
 "metadata": {
  "kernelspec": {
   "display_name": "Python 3 (ipykernel)",
   "language": "python",
   "name": "python3"
  },
  "language_info": {
   "codemirror_mode": {
    "name": "ipython",
    "version": 3
   },
   "file_extension": ".py",
   "mimetype": "text/x-python",
   "name": "python",
   "nbconvert_exporter": "python",
   "pygments_lexer": "ipython3",
   "version": "3.10.12"
  }
 },
 "nbformat": 4,
 "nbformat_minor": 5
}
